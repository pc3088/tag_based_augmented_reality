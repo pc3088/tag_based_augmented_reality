{
 "cells": [
  {
   "cell_type": "code",
   "execution_count": 3,
   "id": "77ad7940",
   "metadata": {},
   "outputs": [],
   "source": [
    "import cv2 as cv2\n",
    "import cv2.aruco as aruco\n",
    "import sys\n",
    "from matplotlib import pyplot as plt\n",
    "%matplotlib inline\n",
    "import numpy as np\n",
    "from sympy import symbols, Eq, solve\n",
    "import glob\n",
    "import os"
   ]
  },
  {
   "cell_type": "code",
   "execution_count": 4,
   "id": "fb12862c",
   "metadata": {},
   "outputs": [
    {
     "data": {
      "image/png": "[encoded data removed]",
      "text/plain": [
       "<Figure size 640x480 with 1 Axes>"
      ]
     },
     "metadata": {},
     "output_type": "display_data"
    }
   ],
   "source": [
    "aruco_dict = aruco.Dictionary_get(aruco.DICT_6X6_1000)\n",
    "\n",
    "\n",
    "marker_length = 3.7\n",
    "marker_seperation = 1.1\n",
    "\n",
    "arucoParams = aruco.DetectorParameters_create()\n",
    "board = aruco.GridBoard_create(5,7, marker_length, marker_seperation, aruco_dict)\n",
    "imboard = board.draw((2000,2000))\n",
    "#cv2.imwrite(\"aruco_board.png\", imboard)\n",
    "fig = plt.figure()\n",
    "ax = fig.add_subplot(1,1,1)\n",
    "plt.imshow(imboard, interpolation= \"nearest\")\n",
    "ax.axis(\"off\")\n",
    "plt.show()\n",
    "\n",
    "\n"
   ]
  },
  {
   "cell_type": "code",
   "execution_count": 8,
   "id": "b6d21220",
   "metadata": {},
   "outputs": [
    {
     "name": "stdout",
     "output_type": "stream",
     "text": [
      "k matrix =  [[3.12450098e+03 0.00000000e+00 1.94671298e+03]\n",
      " [0.00000000e+00 3.12749901e+03 1.79778627e+03]\n",
      " [0.00000000e+00 0.00000000e+00 1.00000000e+00]]\n",
      "distortion parameters =  [[-0.1193567   0.45348136  0.01090722  0.00685675 -0.47690137]]\n"
     ]
    }
   ],
   "source": [
    "counter, corners_list, id_list = [], [], []\n",
    "\n",
    "first = 0\n",
    "\n",
    "folder = \"/Users/pavan/Downloads/OpenCV/qsn_3_aruco/arco_images\"\n",
    "\n",
    "for filename in os.listdir(folder) :\n",
    "    img= cv2.imread(os.path.join(folder, filename))\n",
    "    if img is not None:\n",
    "        img_gray=cv2.cvtColor(img,cv2.COLOR_BGR2GRAY)\n",
    "        corners, ids, rejected = aruco.detectMarkers(img_gray, aruco_dict, parameters=arucoParams)\n",
    "\n",
    "    if first == 0:\n",
    "        corners_list = corners\n",
    "        id_list = ids\n",
    "\n",
    "    else:\n",
    "        corners_list = np.vstack((corners_list,corners))\n",
    "        id_list = np.vstack((id_list,ids))\n",
    "    \n",
    "    first = first +1\n",
    "    counter.append(len(ids))\n",
    "\n",
    "\n",
    "counter = np.array(counter)\n",
    "ret, mtx, dist, rvecs, tvecs = aruco.calibrateCameraAruco(corners_list, id_list, counter, board, img_gray.shape, None, None)\n",
    "\n",
    "print(\"k matrix = \" ,mtx)\n",
    "print(\"distortion parameters = \", dist)"
   ]
  },
  {
   "cell_type": "code",
   "execution_count": null,
   "id": "a01035e3",
   "metadata": {},
   "outputs": [],
   "source": []
  }
 ],
 "metadata": {
  "kernelspec": {
   "display_name": "Python 3 (ipykernel)",
   "language": "python",
   "name": "python3"
  },
  "language_info": {
   "codemirror_mode": {
    "name": "ipython",
    "version": 3
   },
   "file_extension": ".py",
   "mimetype": "text/x-python",
   "name": "python",
   "nbconvert_exporter": "python",
   "pygments_lexer": "ipython3",
   "version": "3.8.8"
  },
  "vscode": {
   "interpreter": {
    "hash": "79b1f69bd154e086d6066dcd92fe4e918e01040f08e41d3d60390e1b88f02da7"
   }
  }
 },
 "nbformat": 4,
 "nbformat_minor": 5
}
